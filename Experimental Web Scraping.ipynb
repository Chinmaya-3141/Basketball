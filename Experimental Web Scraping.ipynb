{
 "cells": [
  {
   "cell_type": "markdown",
   "id": "aaa0e96c",
   "metadata": {},
   "source": [
    "# Hands on"
   ]
  },
  {
   "cell_type": "code",
   "execution_count": 27,
   "id": "e97566b1",
   "metadata": {},
   "outputs": [
    {
     "data": {
      "text/plain": [
       "'/home/chinmaya/Programming/Jupyter Notebook/Practice Notebooks'"
      ]
     },
     "execution_count": 27,
     "metadata": {},
     "output_type": "execute_result"
    }
   ],
   "source": [
    "# Keeping track of working directory\n",
    "\n",
    "import os\n",
    "current_path = os.getcwd()\n",
    "current_path"
   ]
  },
  {
   "cell_type": "markdown",
   "id": "dd5c27dc",
   "metadata": {},
   "source": [
    "## Installing modules"
   ]
  },
  {
   "cell_type": "markdown",
   "id": "7e093747",
   "metadata": {},
   "source": [
    "### Selenium"
   ]
  },
  {
   "cell_type": "code",
   "execution_count": 28,
   "id": "f4af64d8",
   "metadata": {},
   "outputs": [
    {
     "name": "stdout",
     "output_type": "stream",
     "text": [
      "Requirement already satisfied: selenium in /home/chinmaya/anaconda3/lib/python3.9/site-packages (4.5.0)\n",
      "Requirement already satisfied: trio~=0.17 in /home/chinmaya/anaconda3/lib/python3.9/site-packages (from selenium) (0.22.0)\n",
      "Requirement already satisfied: certifi>=2021.10.8 in /home/chinmaya/anaconda3/lib/python3.9/site-packages (from selenium) (2022.9.24)\n",
      "Requirement already satisfied: urllib3[socks]~=1.26 in /home/chinmaya/anaconda3/lib/python3.9/site-packages (from selenium) (1.26.12)\n",
      "Requirement already satisfied: trio-websocket~=0.9 in /home/chinmaya/anaconda3/lib/python3.9/site-packages (from selenium) (0.9.2)\n",
      "Requirement already satisfied: idna in /home/chinmaya/anaconda3/lib/python3.9/site-packages (from trio~=0.17->selenium) (3.4)\n",
      "Requirement already satisfied: attrs>=19.2.0 in /home/chinmaya/anaconda3/lib/python3.9/site-packages (from trio~=0.17->selenium) (21.4.0)\n",
      "Requirement already satisfied: outcome in /home/chinmaya/anaconda3/lib/python3.9/site-packages (from trio~=0.17->selenium) (1.2.0)\n",
      "Requirement already satisfied: sortedcontainers in /home/chinmaya/anaconda3/lib/python3.9/site-packages (from trio~=0.17->selenium) (2.4.0)\n",
      "Requirement already satisfied: exceptiongroup>=1.0.0rc9 in /home/chinmaya/anaconda3/lib/python3.9/site-packages (from trio~=0.17->selenium) (1.0.0rc9)\n",
      "Requirement already satisfied: sniffio in /home/chinmaya/anaconda3/lib/python3.9/site-packages (from trio~=0.17->selenium) (1.2.0)\n",
      "Requirement already satisfied: async-generator>=1.9 in /home/chinmaya/anaconda3/lib/python3.9/site-packages (from trio~=0.17->selenium) (1.10)\n",
      "Requirement already satisfied: wsproto>=0.14 in /home/chinmaya/anaconda3/lib/python3.9/site-packages (from trio-websocket~=0.9->selenium) (1.2.0)\n",
      "Requirement already satisfied: PySocks!=1.5.7,<2.0,>=1.5.6 in /home/chinmaya/anaconda3/lib/python3.9/site-packages (from urllib3[socks]~=1.26->selenium) (1.7.1)\n",
      "Requirement already satisfied: h11<1,>=0.9.0 in /home/chinmaya/anaconda3/lib/python3.9/site-packages (from wsproto>=0.14->trio-websocket~=0.9->selenium) (0.14.0)\n"
     ]
    }
   ],
   "source": [
    "!pip install selenium"
   ]
  },
  {
   "cell_type": "markdown",
   "id": "4ed73343",
   "metadata": {},
   "source": [
    "### BeautifulSoup"
   ]
  },
  {
   "cell_type": "code",
   "execution_count": 29,
   "id": "ad6bb3aa",
   "metadata": {},
   "outputs": [
    {
     "name": "stdout",
     "output_type": "stream",
     "text": [
      "Requirement already satisfied: bs4 in /home/chinmaya/anaconda3/lib/python3.9/site-packages (0.0.1)\r\n",
      "Requirement already satisfied: beautifulsoup4 in /home/chinmaya/anaconda3/lib/python3.9/site-packages (from bs4) (4.11.1)\r\n",
      "Requirement already satisfied: soupsieve>1.2 in /home/chinmaya/anaconda3/lib/python3.9/site-packages (from beautifulsoup4->bs4) (2.3.2.post1)\r\n"
     ]
    }
   ],
   "source": [
    "!pip install bs4"
   ]
  },
  {
   "cell_type": "markdown",
   "id": "e98b4591",
   "metadata": {},
   "source": [
    "### Lxml (not directly useful at this stage)"
   ]
  },
  {
   "cell_type": "code",
   "execution_count": 30,
   "id": "797c23e0",
   "metadata": {},
   "outputs": [
    {
     "name": "stdout",
     "output_type": "stream",
     "text": [
      "Requirement already satisfied: lxml in /home/chinmaya/anaconda3/lib/python3.9/site-packages (4.9.1)\r\n"
     ]
    }
   ],
   "source": [
    "!pip install lxml"
   ]
  },
  {
   "cell_type": "code",
   "execution_count": 31,
   "id": "0131f885",
   "metadata": {},
   "outputs": [],
   "source": [
    "from selenium import webdriver\n",
    "from selenium.webdriver.firefox.options import Options as ffopt\n",
    "from bs4 import BeautifulSoup\n",
    "import pandas as pd"
   ]
  },
  {
   "cell_type": "markdown",
   "id": "88c664d8",
   "metadata": {},
   "source": [
    "## Checking preliminaries"
   ]
  },
  {
   "cell_type": "code",
   "execution_count": 32,
   "id": "f45f47be",
   "metadata": {},
   "outputs": [],
   "source": [
    "# import os\n",
    "# current_path = os.getcwd()\n",
    "# current_path"
   ]
  },
  {
   "cell_type": "code",
   "execution_count": 33,
   "id": "6ef4932c",
   "metadata": {},
   "outputs": [],
   "source": [
    "# !pip list"
   ]
  },
  {
   "cell_type": "code",
   "execution_count": 34,
   "id": "abb7ca09",
   "metadata": {},
   "outputs": [],
   "source": [
    "# import sys\n",
    "# print(sys.path)"
   ]
  },
  {
   "cell_type": "markdown",
   "id": "e839725f",
   "metadata": {},
   "source": [
    "## Practicing with the Nintendo website"
   ]
  },
  {
   "cell_type": "code",
   "execution_count": null,
   "id": "940a239d",
   "metadata": {},
   "outputs": [],
   "source": []
  },
  {
   "cell_type": "code",
   "execution_count": 35,
   "id": "57eda8f3",
   "metadata": {},
   "outputs": [],
   "source": [
    "# options = Options()\n",
    "# options.headless = True\n",
    "# options.add_argument(\"--window-size=1920,1200\")\n",
    "\n",
    "# driver = webdriver.Chrome(options=options, executable_path=DRIVER_PATH)\n",
    "# driver.get(\"https://www.nintendo.com/\")\n",
    "# print(driver.page_source)\n",
    "# driver.quit()"
   ]
  },
  {
   "cell_type": "code",
   "execution_count": 40,
   "id": "c7bd396f",
   "metadata": {},
   "outputs": [],
   "source": [
    "options = ffopt()\n",
    "options.headless = True\n",
    "options.add_argument(\"--window-size=1920,1200\")\n",
    "\n",
    "driver = webdriver.Firefox()\n",
    "driver.get(\"https://www.nintendo.com\")\n",
    " \n",
    "# driver.find_element_by_id(\"nav-search\").send_keys(\"Selenium\")"
   ]
  },
  {
   "cell_type": "code",
   "execution_count": 39,
   "id": "e63a4f18",
   "metadata": {},
   "outputs": [],
   "source": [
    "# Prints the page source for the website accessed with driver.get()\n",
    "\n",
    "# print(driver.page_source)\n",
    "# print(driver.title)\n",
    "# print(driver.current_url)"
   ]
  },
  {
   "cell_type": "code",
   "execution_count": null,
   "id": "934d3c09",
   "metadata": {},
   "outputs": [],
   "source": []
  }
 ],
 "metadata": {
  "kernelspec": {
   "display_name": "Python 3 (ipykernel)",
   "language": "python",
   "name": "python3"
  },
  "language_info": {
   "codemirror_mode": {
    "name": "ipython",
    "version": 3
   },
   "file_extension": ".py",
   "mimetype": "text/x-python",
   "name": "python",
   "nbconvert_exporter": "python",
   "pygments_lexer": "ipython3",
   "version": "3.9.12"
  }
 },
 "nbformat": 4,
 "nbformat_minor": 5
}
